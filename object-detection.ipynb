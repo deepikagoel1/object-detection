{
 "cells": [
  {
   "cell_type": "code",
   "execution_count": 4,
   "id": "e372e291",
   "metadata": {},
   "outputs": [
    {
     "name": "stdout",
     "output_type": "stream",
     "text": [
      "Requirement already satisfied: pip in c:\\users\\dell\\anaconda3\\envs\\tensorflow\\lib\\site-packages (21.1.2)\n"
     ]
    }
   ],
   "source": [
    "!pip install --upgrade pip --user"
   ]
  },
  {
   "cell_type": "code",
   "execution_count": 5,
   "id": "ec68e894",
   "metadata": {},
   "outputs": [
    {
     "name": "stdout",
     "output_type": "stream",
     "text": [
      "Requirement already satisfied: tensorflow in c:\\users\\dell\\appdata\\roaming\\python\\python36\\site-packages (1.15.0)\n",
      "Requirement already satisfied: protobuf>=3.6.1 in c:\\users\\dell\\anaconda3\\envs\\tensorflow\\lib\\site-packages (from tensorflow) (3.17.2)\n",
      "Requirement already satisfied: tensorflow-estimator==1.15.1 in c:\\users\\dell\\appdata\\roaming\\python\\python36\\site-packages (from tensorflow) (1.15.1)\n",
      "Requirement already satisfied: numpy<2.0,>=1.16.0 in c:\\users\\dell\\appdata\\roaming\\python\\python36\\site-packages (from tensorflow) (1.19.5)\n",
      "Requirement already satisfied: termcolor>=1.1.0 in c:\\users\\dell\\anaconda3\\envs\\tensorflow\\lib\\site-packages (from tensorflow) (1.1.0)\n",
      "Requirement already satisfied: absl-py>=0.7.0 in c:\\users\\dell\\anaconda3\\envs\\tensorflow\\lib\\site-packages (from tensorflow) (0.12.0)\n",
      "Requirement already satisfied: keras-applications>=1.0.8 in c:\\users\\dell\\anaconda3\\envs\\tensorflow\\lib\\site-packages (from tensorflow) (1.0.8)\n",
      "Requirement already satisfied: opt-einsum>=2.3.2 in c:\\users\\dell\\anaconda3\\envs\\tensorflow\\lib\\site-packages (from tensorflow) (3.3.0)\n",
      "Requirement already satisfied: wrapt>=1.11.1 in c:\\users\\dell\\anaconda3\\envs\\tensorflow\\lib\\site-packages (from tensorflow) (1.12.1)\n",
      "Requirement already satisfied: astor>=0.6.0 in c:\\users\\dell\\anaconda3\\envs\\tensorflow\\lib\\site-packages (from tensorflow) (0.8.1)\n",
      "Requirement already satisfied: gast==0.2.2 in c:\\users\\dell\\appdata\\roaming\\python\\python36\\site-packages (from tensorflow) (0.2.2)\n",
      "Requirement already satisfied: google-pasta>=0.1.6 in c:\\users\\dell\\anaconda3\\envs\\tensorflow\\lib\\site-packages (from tensorflow) (0.2.0)\n",
      "Requirement already satisfied: six>=1.10.0 in c:\\users\\dell\\anaconda3\\envs\\tensorflow\\lib\\site-packages (from tensorflow) (1.15.0)\n",
      "Requirement already satisfied: wheel>=0.26 in c:\\users\\dell\\anaconda3\\envs\\tensorflow\\lib\\site-packages (from tensorflow) (0.36.2)\n",
      "Requirement already satisfied: tensorboard<1.16.0,>=1.15.0 in c:\\users\\dell\\appdata\\roaming\\python\\python36\\site-packages (from tensorflow) (1.15.0)\n",
      "Requirement already satisfied: grpcio>=1.8.6 in c:\\users\\dell\\anaconda3\\envs\\tensorflow\\lib\\site-packages (from tensorflow) (1.34.1)\n",
      "Requirement already satisfied: keras-preprocessing>=1.0.5 in c:\\users\\dell\\anaconda3\\envs\\tensorflow\\lib\\site-packages (from tensorflow) (1.1.2)\n",
      "Requirement already satisfied: h5py in c:\\users\\dell\\anaconda3\\envs\\tensorflow\\lib\\site-packages (from keras-applications>=1.0.8->tensorflow) (3.1.0)\n",
      "Requirement already satisfied: markdown>=2.6.8 in c:\\users\\dell\\anaconda3\\envs\\tensorflow\\lib\\site-packages (from tensorboard<1.16.0,>=1.15.0->tensorflow) (3.3.4)\n",
      "Requirement already satisfied: setuptools>=41.0.0 in c:\\users\\dell\\appdata\\roaming\\python\\python36\\site-packages (from tensorboard<1.16.0,>=1.15.0->tensorflow) (57.0.0)\n",
      "Requirement already satisfied: werkzeug>=0.11.15 in c:\\users\\dell\\anaconda3\\envs\\tensorflow\\lib\\site-packages (from tensorboard<1.16.0,>=1.15.0->tensorflow) (2.0.1)\n",
      "Requirement already satisfied: importlib-metadata in c:\\users\\dell\\anaconda3\\envs\\tensorflow\\lib\\site-packages (from markdown>=2.6.8->tensorboard<1.16.0,>=1.15.0->tensorflow) (4.4.0)\n",
      "Requirement already satisfied: dataclasses in c:\\users\\dell\\anaconda3\\envs\\tensorflow\\lib\\site-packages (from werkzeug>=0.11.15->tensorboard<1.16.0,>=1.15.0->tensorflow) (0.8)\n",
      "Requirement already satisfied: cached-property in c:\\users\\dell\\anaconda3\\envs\\tensorflow\\lib\\site-packages (from h5py->keras-applications>=1.0.8->tensorflow) (1.5.2)\n",
      "Requirement already satisfied: zipp>=0.5 in c:\\users\\dell\\anaconda3\\envs\\tensorflow\\lib\\site-packages (from importlib-metadata->markdown>=2.6.8->tensorboard<1.16.0,>=1.15.0->tensorflow) (3.4.1)\n",
      "Requirement already satisfied: typing-extensions>=3.6.4 in c:\\users\\dell\\anaconda3\\envs\\tensorflow\\lib\\site-packages (from importlib-metadata->markdown>=2.6.8->tensorboard<1.16.0,>=1.15.0->tensorflow) (3.7.4.3)\n"
     ]
    }
   ],
   "source": [
    "!pip install tensorflow"
   ]
  },
  {
   "cell_type": "code",
   "execution_count": 6,
   "id": "48e3677c",
   "metadata": {},
   "outputs": [
    {
     "name": "stdout",
     "output_type": "stream",
     "text": [
      "Collecting tf-nightly\n",
      "  Downloading tf_nightly-2.6.0.dev20210606-cp36-cp36m-win_amd64.whl (336.4 MB)\n",
      "Collecting tb-nightly~=2.6.0.a\n",
      "  Downloading tb_nightly-2.6.0a20210606-py3-none-any.whl (5.5 MB)\n",
      "Requirement already satisfied: protobuf>=3.9.2 in c:\\users\\dell\\anaconda3\\envs\\tensorflow\\lib\\site-packages (from tf-nightly) (3.17.2)\n",
      "Requirement already satisfied: astunparse~=1.6.3 in c:\\users\\dell\\anaconda3\\envs\\tensorflow\\lib\\site-packages (from tf-nightly) (1.6.3)\n",
      "Collecting tf-estimator-nightly~=2.5.0.dev\n",
      "  Downloading tf_estimator_nightly-2.5.0.dev2021032601-py2.py3-none-any.whl (462 kB)\n",
      "Requirement already satisfied: termcolor~=1.1.0 in c:\\users\\dell\\anaconda3\\envs\\tensorflow\\lib\\site-packages (from tf-nightly) (1.1.0)\n",
      "Requirement already satisfied: wrapt~=1.12.1 in c:\\users\\dell\\anaconda3\\envs\\tensorflow\\lib\\site-packages (from tf-nightly) (1.12.1)\n",
      "Requirement already satisfied: google-pasta~=0.2 in c:\\users\\dell\\anaconda3\\envs\\tensorflow\\lib\\site-packages (from tf-nightly) (0.2.0)\n",
      "Requirement already satisfied: typing-extensions~=3.7.4 in c:\\users\\dell\\anaconda3\\envs\\tensorflow\\lib\\site-packages (from tf-nightly) (3.7.4.3)\n",
      "Requirement already satisfied: keras-preprocessing~=1.1.2 in c:\\users\\dell\\anaconda3\\envs\\tensorflow\\lib\\site-packages (from tf-nightly) (1.1.2)\n",
      "Collecting grpcio<2.0,>=1.37.0\n",
      "  Downloading grpcio-1.38.0-cp36-cp36m-win_amd64.whl (3.1 MB)\n",
      "Requirement already satisfied: wheel~=0.35 in c:\\users\\dell\\anaconda3\\envs\\tensorflow\\lib\\site-packages (from tf-nightly) (0.36.2)\n",
      "Requirement already satisfied: numpy~=1.19.2 in c:\\users\\dell\\appdata\\roaming\\python\\python36\\site-packages (from tf-nightly) (1.19.5)\n",
      "Requirement already satisfied: h5py~=3.1.0 in c:\\users\\dell\\anaconda3\\envs\\tensorflow\\lib\\site-packages (from tf-nightly) (3.1.0)\n",
      "Requirement already satisfied: opt-einsum~=3.3.0 in c:\\users\\dell\\anaconda3\\envs\\tensorflow\\lib\\site-packages (from tf-nightly) (3.3.0)\n",
      "Requirement already satisfied: six~=1.15.0 in c:\\users\\dell\\anaconda3\\envs\\tensorflow\\lib\\site-packages (from tf-nightly) (1.15.0)\n",
      "Collecting gast==0.4.0\n",
      "  Using cached gast-0.4.0-py3-none-any.whl (9.8 kB)\n",
      "Collecting keras-nightly~=2.6.0.dev\n",
      "  Downloading keras_nightly-2.6.0.dev2021060700-py2.py3-none-any.whl (1.3 MB)\n",
      "Requirement already satisfied: absl-py~=0.10 in c:\\users\\dell\\anaconda3\\envs\\tensorflow\\lib\\site-packages (from tf-nightly) (0.12.0)\n",
      "Requirement already satisfied: flatbuffers~=1.12.0 in c:\\users\\dell\\anaconda3\\envs\\tensorflow\\lib\\site-packages (from tf-nightly) (1.12)\n",
      "Requirement already satisfied: cached-property in c:\\users\\dell\\anaconda3\\envs\\tensorflow\\lib\\site-packages (from h5py~=3.1.0->tf-nightly) (1.5.2)\n",
      "Requirement already satisfied: tensorboard-data-server<0.7.0,>=0.6.0 in c:\\users\\dell\\anaconda3\\envs\\tensorflow\\lib\\site-packages (from tb-nightly~=2.6.0.a->tf-nightly) (0.6.1)\n",
      "Requirement already satisfied: google-auth<2,>=1.6.3 in c:\\users\\dell\\anaconda3\\envs\\tensorflow\\lib\\site-packages (from tb-nightly~=2.6.0.a->tf-nightly) (1.30.1)\n",
      "Requirement already satisfied: google-auth-oauthlib<0.5,>=0.4.1 in c:\\users\\dell\\anaconda3\\envs\\tensorflow\\lib\\site-packages (from tb-nightly~=2.6.0.a->tf-nightly) (0.4.4)\n",
      "Requirement already satisfied: setuptools>=41.0.0 in c:\\users\\dell\\appdata\\roaming\\python\\python36\\site-packages (from tb-nightly~=2.6.0.a->tf-nightly) (57.0.0)\n",
      "Requirement already satisfied: requests<3,>=2.21.0 in c:\\users\\dell\\anaconda3\\envs\\tensorflow\\lib\\site-packages (from tb-nightly~=2.6.0.a->tf-nightly) (2.25.1)\n",
      "Requirement already satisfied: werkzeug>=0.11.15 in c:\\users\\dell\\anaconda3\\envs\\tensorflow\\lib\\site-packages (from tb-nightly~=2.6.0.a->tf-nightly) (2.0.1)\n",
      "Requirement already satisfied: markdown>=2.6.8 in c:\\users\\dell\\anaconda3\\envs\\tensorflow\\lib\\site-packages (from tb-nightly~=2.6.0.a->tf-nightly) (3.3.4)\n",
      "Requirement already satisfied: tensorboard-plugin-wit>=1.6.0 in c:\\users\\dell\\anaconda3\\envs\\tensorflow\\lib\\site-packages (from tb-nightly~=2.6.0.a->tf-nightly) (1.8.0)\n",
      "Requirement already satisfied: pyasn1-modules>=0.2.1 in c:\\users\\dell\\anaconda3\\envs\\tensorflow\\lib\\site-packages (from google-auth<2,>=1.6.3->tb-nightly~=2.6.0.a->tf-nightly) (0.2.8)\n",
      "Requirement already satisfied: rsa<5,>=3.1.4 in c:\\users\\dell\\anaconda3\\envs\\tensorflow\\lib\\site-packages (from google-auth<2,>=1.6.3->tb-nightly~=2.6.0.a->tf-nightly) (4.7.2)\n",
      "Requirement already satisfied: cachetools<5.0,>=2.0.0 in c:\\users\\dell\\anaconda3\\envs\\tensorflow\\lib\\site-packages (from google-auth<2,>=1.6.3->tb-nightly~=2.6.0.a->tf-nightly) (4.2.2)\n",
      "Requirement already satisfied: requests-oauthlib>=0.7.0 in c:\\users\\dell\\anaconda3\\envs\\tensorflow\\lib\\site-packages (from google-auth-oauthlib<0.5,>=0.4.1->tb-nightly~=2.6.0.a->tf-nightly) (1.3.0)\n",
      "Requirement already satisfied: importlib-metadata in c:\\users\\dell\\anaconda3\\envs\\tensorflow\\lib\\site-packages (from markdown>=2.6.8->tb-nightly~=2.6.0.a->tf-nightly) (4.4.0)\n",
      "Requirement already satisfied: pyasn1<0.5.0,>=0.4.6 in c:\\users\\dell\\anaconda3\\envs\\tensorflow\\lib\\site-packages (from pyasn1-modules>=0.2.1->google-auth<2,>=1.6.3->tb-nightly~=2.6.0.a->tf-nightly) (0.4.8)\n",
      "Requirement already satisfied: chardet<5,>=3.0.2 in c:\\users\\dell\\anaconda3\\envs\\tensorflow\\lib\\site-packages (from requests<3,>=2.21.0->tb-nightly~=2.6.0.a->tf-nightly) (4.0.0)\n",
      "Requirement already satisfied: idna<3,>=2.5 in c:\\users\\dell\\anaconda3\\envs\\tensorflow\\lib\\site-packages (from requests<3,>=2.21.0->tb-nightly~=2.6.0.a->tf-nightly) (2.10)\n",
      "Requirement already satisfied: urllib3<1.27,>=1.21.1 in c:\\users\\dell\\anaconda3\\envs\\tensorflow\\lib\\site-packages (from requests<3,>=2.21.0->tb-nightly~=2.6.0.a->tf-nightly) (1.26.5)"
     ]
    },
    {
     "name": "stderr",
     "output_type": "stream",
     "text": [
      "  WARNING: Retrying (Retry(total=4, connect=None, read=None, redirect=None, status=None)) after connection broken by 'ReadTimeoutError(\"HTTPSConnectionPool(host='files.pythonhosted.org', port=443): Read timed out. (read timeout=15)\",)': /packages/e5/8e/3f67eac8dffdbb7350ff27a81b3426d8c8164da201d6d47439019a821262/tf_nightly-2.6.0.dev20210606-cp36-cp36m-win_amd64.whl\n",
      "ERROR: pip's dependency resolver does not currently take into account all the packages that are installed. This behaviour is the source of the following dependency conflicts.\n",
      "tensorflow 1.15.0 requires gast==0.2.2, but you have gast 0.4.0 which is incompatible.\n",
      "tensorflow-gpu 1.15.3 requires gast==0.2.2, but you have gast 0.4.0 which is incompatible.\n"
     ]
    },
    {
     "name": "stdout",
     "output_type": "stream",
     "text": [
      "\n",
      "Requirement already satisfied: certifi>=2017.4.17 in c:\\users\\dell\\anaconda3\\envs\\tensorflow\\lib\\site-packages (from requests<3,>=2.21.0->tb-nightly~=2.6.0.a->tf-nightly) (2021.5.30)\n",
      "Requirement already satisfied: oauthlib>=3.0.0 in c:\\users\\dell\\anaconda3\\envs\\tensorflow\\lib\\site-packages (from requests-oauthlib>=0.7.0->google-auth-oauthlib<0.5,>=0.4.1->tb-nightly~=2.6.0.a->tf-nightly) (3.1.1)\n",
      "Requirement already satisfied: dataclasses in c:\\users\\dell\\anaconda3\\envs\\tensorflow\\lib\\site-packages (from werkzeug>=0.11.15->tb-nightly~=2.6.0.a->tf-nightly) (0.8)\n",
      "Requirement already satisfied: zipp>=0.5 in c:\\users\\dell\\anaconda3\\envs\\tensorflow\\lib\\site-packages (from importlib-metadata->markdown>=2.6.8->tb-nightly~=2.6.0.a->tf-nightly) (3.4.1)\n",
      "Installing collected packages: grpcio, tf-estimator-nightly, tb-nightly, keras-nightly, gast, tf-nightly\n",
      "  Attempting uninstall: grpcio\n",
      "    Found existing installation: grpcio 1.34.1\n",
      "    Uninstalling grpcio-1.34.1:\n",
      "      Successfully uninstalled grpcio-1.34.1\n",
      "  Attempting uninstall: keras-nightly\n",
      "    Found existing installation: keras-nightly 2.5.0.dev2021032900\n",
      "    Uninstalling keras-nightly-2.5.0.dev2021032900:\n",
      "      Successfully uninstalled keras-nightly-2.5.0.dev2021032900\n",
      "  Attempting uninstall: gast\n",
      "    Found existing installation: gast 0.2.2\n",
      "    Uninstalling gast-0.2.2:\n",
      "      Successfully uninstalled gast-0.2.2\n",
      "Successfully installed gast-0.4.0 grpcio-1.38.0 keras-nightly-2.6.0.dev2021060700 tb-nightly-2.6.0a20210606 tf-estimator-nightly-2.5.0.dev2021032601 tf-nightly-2.6.0.dev20210606\n"
     ]
    }
   ],
   "source": [
    "!pip install tf-nightly"
   ]
  },
  {
   "cell_type": "code",
   "execution_count": null,
   "id": "f75098a6",
   "metadata": {},
   "outputs": [],
   "source": [
    "!git clone https://github.com/tensorflow/models.git"
   ]
  }
 ],
 "metadata": {
  "kernelspec": {
   "display_name": "Python 3",
   "language": "python",
   "name": "python3"
  },
  "language_info": {
   "codemirror_mode": {
    "name": "ipython",
    "version": 3
   },
   "file_extension": ".py",
   "mimetype": "text/x-python",
   "name": "python",
   "nbconvert_exporter": "python",
   "pygments_lexer": "ipython3",
   "version": "3.6.13"
  }
 },
 "nbformat": 4,
 "nbformat_minor": 5
}
